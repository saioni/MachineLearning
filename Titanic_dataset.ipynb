{
 "cells": [
  {
   "cell_type": "code",
   "execution_count": 2,
   "metadata": {
    "collapsed": true
   },
   "outputs": [],
   "source": [
    "import numpy as np\n",
    "import pandas as pd\n",
    "import matplotlib.pyplot as plt\n",
    "import seaborn as sb\n",
    "%matplotlib inline"
   ]
  },
  {
   "cell_type": "markdown",
   "metadata": {},
   "source": [
    "## Logistic Regression"
   ]
  },
  {
   "cell_type": "code",
   "execution_count": 5,
   "metadata": {},
   "outputs": [
    {
     "data": {
      "text/html": [
       "<div>\n",
       "<style>\n",
       "    .dataframe thead tr:only-child th {\n",
       "        text-align: right;\n",
       "    }\n",
       "\n",
       "    .dataframe thead th {\n",
       "        text-align: left;\n",
       "    }\n",
       "\n",
       "    .dataframe tbody tr th {\n",
       "        vertical-align: top;\n",
       "    }\n",
       "</style>\n",
       "<table border=\"1\" class=\"dataframe\">\n",
       "  <thead>\n",
       "    <tr style=\"text-align: right;\">\n",
       "      <th></th>\n",
       "      <th>PassengerId</th>\n",
       "      <th>Survived</th>\n",
       "      <th>Pclass</th>\n",
       "      <th>Name</th>\n",
       "      <th>Sex</th>\n",
       "      <th>Age</th>\n",
       "      <th>SibSp</th>\n",
       "      <th>Parch</th>\n",
       "      <th>Ticket</th>\n",
       "      <th>Fare</th>\n",
       "      <th>Cabin</th>\n",
       "      <th>Embarked</th>\n",
       "    </tr>\n",
       "  </thead>\n",
       "  <tbody>\n",
       "    <tr>\n",
       "      <th>0</th>\n",
       "      <td>1</td>\n",
       "      <td>0</td>\n",
       "      <td>3</td>\n",
       "      <td>Braund, Mr. Owen Harris</td>\n",
       "      <td>male</td>\n",
       "      <td>22.0</td>\n",
       "      <td>1</td>\n",
       "      <td>0</td>\n",
       "      <td>A/5 21171</td>\n",
       "      <td>7.2500</td>\n",
       "      <td>NaN</td>\n",
       "      <td>S</td>\n",
       "    </tr>\n",
       "    <tr>\n",
       "      <th>1</th>\n",
       "      <td>2</td>\n",
       "      <td>1</td>\n",
       "      <td>1</td>\n",
       "      <td>Cumings, Mrs. John Bradley (Florence Briggs Th...</td>\n",
       "      <td>female</td>\n",
       "      <td>38.0</td>\n",
       "      <td>1</td>\n",
       "      <td>0</td>\n",
       "      <td>PC 17599</td>\n",
       "      <td>71.2833</td>\n",
       "      <td>C85</td>\n",
       "      <td>C</td>\n",
       "    </tr>\n",
       "    <tr>\n",
       "      <th>2</th>\n",
       "      <td>3</td>\n",
       "      <td>1</td>\n",
       "      <td>3</td>\n",
       "      <td>Heikkinen, Miss. Laina</td>\n",
       "      <td>female</td>\n",
       "      <td>26.0</td>\n",
       "      <td>0</td>\n",
       "      <td>0</td>\n",
       "      <td>STON/O2. 3101282</td>\n",
       "      <td>7.9250</td>\n",
       "      <td>NaN</td>\n",
       "      <td>S</td>\n",
       "    </tr>\n",
       "    <tr>\n",
       "      <th>3</th>\n",
       "      <td>4</td>\n",
       "      <td>1</td>\n",
       "      <td>1</td>\n",
       "      <td>Futrelle, Mrs. Jacques Heath (Lily May Peel)</td>\n",
       "      <td>female</td>\n",
       "      <td>35.0</td>\n",
       "      <td>1</td>\n",
       "      <td>0</td>\n",
       "      <td>113803</td>\n",
       "      <td>53.1000</td>\n",
       "      <td>C123</td>\n",
       "      <td>S</td>\n",
       "    </tr>\n",
       "    <tr>\n",
       "      <th>4</th>\n",
       "      <td>5</td>\n",
       "      <td>0</td>\n",
       "      <td>3</td>\n",
       "      <td>Allen, Mr. William Henry</td>\n",
       "      <td>male</td>\n",
       "      <td>35.0</td>\n",
       "      <td>0</td>\n",
       "      <td>0</td>\n",
       "      <td>373450</td>\n",
       "      <td>8.0500</td>\n",
       "      <td>NaN</td>\n",
       "      <td>S</td>\n",
       "    </tr>\n",
       "  </tbody>\n",
       "</table>\n",
       "</div>"
      ],
      "text/plain": [
       "   PassengerId  Survived  Pclass  \\\n",
       "0            1         0       3   \n",
       "1            2         1       1   \n",
       "2            3         1       3   \n",
       "3            4         1       1   \n",
       "4            5         0       3   \n",
       "\n",
       "                                                Name     Sex   Age  SibSp  \\\n",
       "0                            Braund, Mr. Owen Harris    male  22.0      1   \n",
       "1  Cumings, Mrs. John Bradley (Florence Briggs Th...  female  38.0      1   \n",
       "2                             Heikkinen, Miss. Laina  female  26.0      0   \n",
       "3       Futrelle, Mrs. Jacques Heath (Lily May Peel)  female  35.0      1   \n",
       "4                           Allen, Mr. William Henry    male  35.0      0   \n",
       "\n",
       "   Parch            Ticket     Fare Cabin Embarked  \n",
       "0      0         A/5 21171   7.2500   NaN        S  \n",
       "1      0          PC 17599  71.2833   C85        C  \n",
       "2      0  STON/O2. 3101282   7.9250   NaN        S  \n",
       "3      0            113803  53.1000  C123        S  \n",
       "4      0            373450   8.0500   NaN        S  "
      ]
     },
     "execution_count": 5,
     "metadata": {},
     "output_type": "execute_result"
    }
   ],
   "source": [
    "dataset = pd.read_csv('C:/Users/dell/Downloads/titanic_train.csv')\n",
    "dataset.head()"
   ]
  },
  {
   "cell_type": "code",
   "execution_count": 6,
   "metadata": {},
   "outputs": [
    {
     "data": {
      "text/plain": [
       "(891, 12)"
      ]
     },
     "execution_count": 6,
     "metadata": {},
     "output_type": "execute_result"
    }
   ],
   "source": [
    "dataset.shape"
   ]
  },
  {
   "cell_type": "code",
   "execution_count": 7,
   "metadata": {},
   "outputs": [
    {
     "name": "stdout",
     "output_type": "stream",
     "text": [
      "<class 'pandas.core.frame.DataFrame'>\n",
      "RangeIndex: 891 entries, 0 to 890\n",
      "Data columns (total 12 columns):\n",
      "PassengerId    891 non-null int64\n",
      "Survived       891 non-null int64\n",
      "Pclass         891 non-null int64\n",
      "Name           891 non-null object\n",
      "Sex            891 non-null object\n",
      "Age            714 non-null float64\n",
      "SibSp          891 non-null int64\n",
      "Parch          891 non-null int64\n",
      "Ticket         891 non-null object\n",
      "Fare           891 non-null float64\n",
      "Cabin          204 non-null object\n",
      "Embarked       889 non-null object\n",
      "dtypes: float64(2), int64(5), object(5)\n",
      "memory usage: 83.6+ KB\n"
     ]
    }
   ],
   "source": [
    "dataset.info()"
   ]
  },
  {
   "cell_type": "code",
   "execution_count": 8,
   "metadata": {},
   "outputs": [
    {
     "data": {
      "text/plain": [
       "<matplotlib.axes._subplots.AxesSubplot at 0x2601f32e0b8>"
      ]
     },
     "execution_count": 8,
     "metadata": {},
     "output_type": "execute_result"
    },
    {
     "data": {
      "image/png": "[encoded data removed]",
      "text/plain": [
       "<matplotlib.figure.Figure at 0x2601c80d0b8>"
      ]
     },
     "metadata": {},
     "output_type": "display_data"
    }
   ],
   "source": [
    "sb.heatmap(dataset.isnull())"
   ]
  },
  {
   "cell_type": "code",
   "execution_count": 9,
   "metadata": {},
   "outputs": [
    {
     "data": {
      "text/plain": [
       "<matplotlib.axes._subplots.AxesSubplot at 0x2601f6d95c0>"
      ]
     },
     "execution_count": 9,
     "metadata": {},
     "output_type": "execute_result"
    },
    {
     "data": {
      "image/png": "[encoded data removed]",
      "text/plain": [
       "<matplotlib.figure.Figure at 0x2601f726fd0>"
      ]
     },
     "metadata": {},
     "output_type": "display_data"
    }
   ],
   "source": [
    "sb.countplot(x='Survived',data=dataset)"
   ]
  },
  {
   "cell_type": "code",
   "execution_count": 10,
   "metadata": {},
   "outputs": [
    {
     "data": {
      "text/plain": [
       "<matplotlib.axes._subplots.AxesSubplot at 0x2601fb00390>"
      ]
     },
     "execution_count": 10,
     "metadata": {},
     "output_type": "execute_result"
    },
    {
     "data": {
      "image/png": "[encoded data removed]",
      "text/plain": [
       "<matplotlib.figure.Figure at 0x2601b7cf9e8>"
      ]
     },
     "metadata": {},
     "output_type": "display_data"
    }
   ],
   "source": [
    "sb.countplot(x='Survived',hue='Sex',data=dataset)"
   ]
  },
  {
   "cell_type": "code",
   "execution_count": 11,
   "metadata": {},
   "outputs": [
    {
     "data": {
      "text/plain": [
       "<matplotlib.axes._subplots.AxesSubplot at 0x2601fb4c588>"
      ]
     },
     "execution_count": 11,
     "metadata": {},
     "output_type": "execute_result"
    },
    {
     "data": {
      "image/png": "[encoded data removed]",
      "text/plain": [
       "<matplotlib.figure.Figure at 0x2601c73cb38>"
      ]
     },
     "metadata": {},
     "output_type": "display_data"
    }
   ],
   "source": [
    "sb.countplot(x='Survived',hue='Pclass',data=dataset)"
   ]
  },
  {
   "cell_type": "code",
   "execution_count": 12,
   "metadata": {},
   "outputs": [
    {
     "data": {
      "text/plain": [
       "<matplotlib.axes._subplots.AxesSubplot at 0x2601fbf0eb8>"
      ]
     },
     "execution_count": 12,
     "metadata": {},
     "output_type": "execute_result"
    },
    {
     "data": {
      "image/png": "[encoded data removed]",
      "text/plain": [
       "<matplotlib.figure.Figure at 0x2601fba7978>"
      ]
     },
     "metadata": {},
     "output_type": "display_data"
    }
   ],
   "source": [
    "plt.figure(figsize=(12,7))\n",
    "sb.boxplot(x='Pclass', y='Age', data=dataset,palette='winter')"
   ]
  },
  {
   "cell_type": "code",
   "execution_count": 13,
   "metadata": {
    "collapsed": true
   },
   "outputs": [],
   "source": [
    "def impute_age(cols):\n",
    "    Age = cols[0]\n",
    "    Pclass = cols[1]\n",
    "    \n",
    "    if pd.isnull(Age):\n",
    "        if Pclass == 1:\n",
    "            return 37\n",
    "        elif Pclass == 2:\n",
    "            return 29\n",
    "        else:\n",
    "            return 24\n",
    "    else:\n",
    "        return Age"
   ]
  },
  {
   "cell_type": "code",
   "execution_count": 14,
   "metadata": {
    "collapsed": true
   },
   "outputs": [],
   "source": [
    "dataset['Age'] = dataset[['Age','Pclass']].apply(impute_age,axis=1)"
   ]
  },
  {
   "cell_type": "code",
   "execution_count": 15,
   "metadata": {},
   "outputs": [
    {
     "data": {
      "text/plain": [
       "<matplotlib.axes._subplots.AxesSubplot at 0x2601fbd11d0>"
      ]
     },
     "execution_count": 15,
     "metadata": {},
     "output_type": "execute_result"
    },
    {
     "data": {
      "image/png": "[encoded data removed]",
      "text/plain": [
       "<matplotlib.figure.Figure at 0x2601fc7c0b8>"
      ]
     },
     "metadata": {},
     "output_type": "display_data"
    }
   ],
   "source": [
    "sb.heatmap(dataset.isnull())"
   ]
  },
  {
   "cell_type": "code",
   "execution_count": 16,
   "metadata": {
    "collapsed": true
   },
   "outputs": [],
   "source": [
    "dataset.drop('Cabin',axis=1,inplace=True)"
   ]
  },
  {
   "cell_type": "code",
   "execution_count": 17,
   "metadata": {},
   "outputs": [
    {
     "name": "stdout",
     "output_type": "stream",
     "text": [
      "<class 'pandas.core.frame.DataFrame'>\n",
      "RangeIndex: 891 entries, 0 to 890\n",
      "Data columns (total 11 columns):\n",
      "PassengerId    891 non-null int64\n",
      "Survived       891 non-null int64\n",
      "Pclass         891 non-null int64\n",
      "Name           891 non-null object\n",
      "Sex            891 non-null object\n",
      "Age            891 non-null float64\n",
      "SibSp          891 non-null int64\n",
      "Parch          891 non-null int64\n",
      "Ticket         891 non-null object\n",
      "Fare           891 non-null float64\n",
      "Embarked       889 non-null object\n",
      "dtypes: float64(2), int64(5), object(4)\n",
      "memory usage: 76.6+ KB\n"
     ]
    }
   ],
   "source": [
    "dataset.info()"
   ]
  },
  {
   "cell_type": "code",
   "execution_count": 18,
   "metadata": {
    "collapsed": true
   },
   "outputs": [],
   "source": [
    "sex = pd.get_dummies(dataset['Sex'],drop_first=True)\n",
    "embark = pd.get_dummies(dataset['Embarked'],drop_first=True)"
   ]
  },
  {
   "cell_type": "code",
   "execution_count": 19,
   "metadata": {
    "collapsed": true
   },
   "outputs": [],
   "source": [
    "dataset.drop(['PassengerId','Sex','Embarked','Name','Ticket'],axis=1,inplace=True)\n"
   ]
  },
  {
   "cell_type": "code",
   "execution_count": 20,
   "metadata": {
    "collapsed": true
   },
   "outputs": [],
   "source": [
    "dataset = pd.concat([dataset,sex,embark],axis=1)"
   ]
  },
  {
   "cell_type": "code",
   "execution_count": 21,
   "metadata": {},
   "outputs": [
    {
     "data": {
      "text/html": [
       "<div>\n",
       "<style>\n",
       "    .dataframe thead tr:only-child th {\n",
       "        text-align: right;\n",
       "    }\n",
       "\n",
       "    .dataframe thead th {\n",
       "        text-align: left;\n",
       "    }\n",
       "\n",
       "    .dataframe tbody tr th {\n",
       "        vertical-align: top;\n",
       "    }\n",
       "</style>\n",
       "<table border=\"1\" class=\"dataframe\">\n",
       "  <thead>\n",
       "    <tr style=\"text-align: right;\">\n",
       "      <th></th>\n",
       "      <th>Survived</th>\n",
       "      <th>Pclass</th>\n",
       "      <th>Age</th>\n",
       "      <th>SibSp</th>\n",
       "      <th>Parch</th>\n",
       "      <th>Fare</th>\n",
       "      <th>male</th>\n",
       "      <th>Q</th>\n",
       "      <th>S</th>\n",
       "    </tr>\n",
       "  </thead>\n",
       "  <tbody>\n",
       "    <tr>\n",
       "      <th>0</th>\n",
       "      <td>0</td>\n",
       "      <td>3</td>\n",
       "      <td>22.0</td>\n",
       "      <td>1</td>\n",
       "      <td>0</td>\n",
       "      <td>7.2500</td>\n",
       "      <td>1</td>\n",
       "      <td>0</td>\n",
       "      <td>1</td>\n",
       "    </tr>\n",
       "    <tr>\n",
       "      <th>1</th>\n",
       "      <td>1</td>\n",
       "      <td>1</td>\n",
       "      <td>38.0</td>\n",
       "      <td>1</td>\n",
       "      <td>0</td>\n",
       "      <td>71.2833</td>\n",
       "      <td>0</td>\n",
       "      <td>0</td>\n",
       "      <td>0</td>\n",
       "    </tr>\n",
       "    <tr>\n",
       "      <th>2</th>\n",
       "      <td>1</td>\n",
       "      <td>3</td>\n",
       "      <td>26.0</td>\n",
       "      <td>0</td>\n",
       "      <td>0</td>\n",
       "      <td>7.9250</td>\n",
       "      <td>0</td>\n",
       "      <td>0</td>\n",
       "      <td>1</td>\n",
       "    </tr>\n",
       "    <tr>\n",
       "      <th>3</th>\n",
       "      <td>1</td>\n",
       "      <td>1</td>\n",
       "      <td>35.0</td>\n",
       "      <td>1</td>\n",
       "      <td>0</td>\n",
       "      <td>53.1000</td>\n",
       "      <td>0</td>\n",
       "      <td>0</td>\n",
       "      <td>1</td>\n",
       "    </tr>\n",
       "    <tr>\n",
       "      <th>4</th>\n",
       "      <td>0</td>\n",
       "      <td>3</td>\n",
       "      <td>35.0</td>\n",
       "      <td>0</td>\n",
       "      <td>0</td>\n",
       "      <td>8.0500</td>\n",
       "      <td>1</td>\n",
       "      <td>0</td>\n",
       "      <td>1</td>\n",
       "    </tr>\n",
       "  </tbody>\n",
       "</table>\n",
       "</div>"
      ],
      "text/plain": [
       "   Survived  Pclass   Age  SibSp  Parch     Fare  male  Q  S\n",
       "0         0       3  22.0      1      0   7.2500     1  0  1\n",
       "1         1       1  38.0      1      0  71.2833     0  0  0\n",
       "2         1       3  26.0      0      0   7.9250     0  0  1\n",
       "3         1       1  35.0      1      0  53.1000     0  0  1\n",
       "4         0       3  35.0      0      0   8.0500     1  0  1"
      ]
     },
     "execution_count": 21,
     "metadata": {},
     "output_type": "execute_result"
    }
   ],
   "source": [
    "dataset.head()"
   ]
  },
  {
   "cell_type": "code",
   "execution_count": 22,
   "metadata": {
    "collapsed": true
   },
   "outputs": [],
   "source": [
    "from sklearn.model_selection import train_test_split\n",
    "X_train,X_test,Y_train,Y_test = train_test_split(dataset.drop('Survived',axis=1),dataset['Survived'],\n",
    "                                                 test_size=0.20,random_state=101)\n"
   ]
  },
  {
   "cell_type": "code",
   "execution_count": 23,
   "metadata": {},
   "outputs": [
    {
     "name": "stdout",
     "output_type": "stream",
     "text": [
      "[0 1 0 0 0 0 0 0 1 1 0 0 1 0 0 0 0 0 0 1 0 0 1 1 0 0 0 0 0 0 1 1 1 0 0 1 0\n",
      " 0 0 0 1 1 1 0 0 0 0 0 0 0 1 0 1 1 1 0 0 0 0 1 1 0 0 1 0 0 1 1 1 0 1 0 0 0\n",
      " 1 1 0 0 0 0 0 1 0 0 1 0 0 0 0 1 0 1 1 1 1 1 1 0 0 0 0 1 0 0 1 1 1 1 1 0 0\n",
      " 0 0 0 1 0 1 0 0 1 0 0 1 0 0 0 0 0 1 0 1 1 1 0 0 0 0 0 0 1 0 1 0 0 1 0 1 0\n",
      " 0 0 1 1 0 0 0 0 1 0 1 1 0 0 1 0 1 1 0 1 0 0 1 0 0 1 0 0 1 0 0]\n"
     ]
    },
    {
     "data": {
      "text/plain": [
       "331    0\n",
       "700    1\n",
       "748    0\n",
       "751    1\n",
       "481    0\n",
       "Name: Survived, dtype: int64"
      ]
     },
     "execution_count": 23,
     "metadata": {},
     "output_type": "execute_result"
    }
   ],
   "source": [
    "from sklearn.linear_model import LogisticRegression\n",
    "logmodel = LogisticRegression()\n",
    "logmodel.fit(X_train,Y_train)\n",
    "predictions = logmodel.predict(X_test)\n",
    "print(predictions)\n",
    "Y_test.head(5)"
   ]
  },
  {
   "cell_type": "markdown",
   "metadata": {},
   "source": [
    "  ## Feature Scaling"
   ]
  },
  {
   "cell_type": "code",
   "execution_count": 25,
   "metadata": {},
   "outputs": [
    {
     "data": {
      "text/plain": [
       "array([ 22.  ,  38.  ,  26.  ,  35.  ,  35.  ,  24.  ,  54.  ,   2.  ,\n",
       "        27.  ,  14.  ,   4.  ,  58.  ,  20.  ,  39.  ,  14.  ,  55.  ,\n",
       "         2.  ,  29.  ,  31.  ,  24.  ,  35.  ,  34.  ,  15.  ,  28.  ,\n",
       "         8.  ,  38.  ,  24.  ,  19.  ,  24.  ,  24.  ,  40.  ,  37.  ,\n",
       "        24.  ,  66.  ,  28.  ,  42.  ,  24.  ,  21.  ,  18.  ,  14.  ,\n",
       "        40.  ,  27.  ,  24.  ,   3.  ,  19.  ,  24.  ,  24.  ,  24.  ,\n",
       "        24.  ,  18.  ,   7.  ,  21.  ,  49.  ,  29.  ,  65.  ,  37.  ,\n",
       "        21.  ,  28.5 ,   5.  ,  11.  ,  22.  ,  38.  ,  45.  ,   4.  ,\n",
       "        37.  ,  24.  ,  29.  ,  19.  ,  17.  ,  26.  ,  32.  ,  16.  ,\n",
       "        21.  ,  26.  ,  32.  ,  25.  ,  24.  ,  24.  ,   0.83,  30.  ,\n",
       "        22.  ,  29.  ,  24.  ,  28.  ,  17.  ,  33.  ,  16.  ,  24.  ,\n",
       "        23.  ,  24.  ,  29.  ,  20.  ,  46.  ,  26.  ,  59.  ,  24.  ,\n",
       "        71.  ,  23.  ,  34.  ,  34.  ,  28.  ,  24.  ,  21.  ,  33.  ,\n",
       "        37.  ,  28.  ,  21.  ,  24.  ,  38.  ,  24.  ,  47.  ,  14.5 ,\n",
       "        22.  ,  20.  ,  17.  ,  21.  ,  70.5 ,  29.  ,  24.  ,   2.  ,\n",
       "        21.  ,  24.  ,  32.5 ,  32.5 ,  54.  ,  12.  ,  24.  ,  24.  ,\n",
       "        24.  ,  45.  ,  33.  ,  20.  ,  47.  ,  29.  ,  25.  ,  23.  ,\n",
       "        19.  ,  37.  ,  16.  ,  24.  ,  24.  ,  22.  ,  24.  ,  19.  ,\n",
       "        18.  ,  19.  ,  27.  ,   9.  ,  36.5 ,  42.  ,  51.  ,  22.  ,\n",
       "        55.5 ,  40.5 ,  24.  ,  51.  ,  16.  ,  30.  ,  24.  ,  24.  ,\n",
       "        44.  ,  40.  ,  26.  ,  17.  ,   1.  ,   9.  ,  37.  ,  45.  ,\n",
       "        37.  ,  28.  ,  61.  ,   4.  ,   1.  ,  21.  ,  56.  ,  18.  ,\n",
       "        24.  ,  50.  ,  30.  ,  36.  ,  24.  ,  29.  ,   9.  ,   1.  ,\n",
       "         4.  ,  37.  ,  24.  ,  45.  ,  40.  ,  36.  ,  32.  ,  19.  ,\n",
       "        19.  ,   3.  ,  44.  ,  58.  ,  24.  ,  42.  ,  24.  ,  24.  ,\n",
       "        28.  ,  24.  ,  34.  ,  45.5 ,  18.  ,   2.  ,  32.  ,  26.  ,\n",
       "        16.  ,  40.  ,  24.  ,  35.  ,  22.  ,  30.  ,  24.  ,  31.  ,\n",
       "        27.  ,  42.  ,  32.  ,  30.  ,  16.  ,  27.  ,  51.  ,  24.  ,\n",
       "        38.  ,  22.  ,  19.  ,  20.5 ,  18.  ,  24.  ,  35.  ,  29.  ,\n",
       "        59.  ,   5.  ,  24.  ,  24.  ,  44.  ,   8.  ,  19.  ,  33.  ,\n",
       "        24.  ,  24.  ,  29.  ,  22.  ,  30.  ,  44.  ,  25.  ,  24.  ,\n",
       "        37.  ,  54.  ,  24.  ,  29.  ,  62.  ,  30.  ,  41.  ,  29.  ,\n",
       "        37.  ,  30.  ,  35.  ,  50.  ,  24.  ,   3.  ,  52.  ,  40.  ,\n",
       "        24.  ,  36.  ,  16.  ,  25.  ,  58.  ,  35.  ,  37.  ,  25.  ,\n",
       "        41.  ,  37.  ,  24.  ,  63.  ,  45.  ,  29.  ,   7.  ,  35.  ,\n",
       "        65.  ,  28.  ,  16.  ,  19.  ,  37.  ,  33.  ,  30.  ,  22.  ,\n",
       "        42.  ,  22.  ,  26.  ,  19.  ,  36.  ,  24.  ,  24.  ,  37.  ,\n",
       "        23.5 ,   2.  ,  37.  ,  50.  ,  24.  ,  24.  ,  19.  ,  29.  ,\n",
       "        24.  ,   0.92,  37.  ,  17.  ,  30.  ,  30.  ,  24.  ,  18.  ,\n",
       "        26.  ,  28.  ,  43.  ,  26.  ,  24.  ,  54.  ,  31.  ,  40.  ,\n",
       "        22.  ,  27.  ,  30.  ,  22.  ,  24.  ,  36.  ,  61.  ,  36.  ,\n",
       "        31.  ,  16.  ,  24.  ,  45.5 ,  38.  ,  16.  ,  37.  ,  24.  ,\n",
       "        29.  ,  41.  ,  45.  ,  45.  ,   2.  ,  24.  ,  28.  ,  25.  ,\n",
       "        36.  ,  24.  ,  40.  ,  24.  ,   3.  ,  42.  ,  23.  ,  37.  ,\n",
       "        15.  ,  25.  ,  24.  ,  28.  ,  22.  ,  38.  ,  24.  ,  24.  ,\n",
       "        40.  ,  29.  ,  45.  ,  35.  ,  24.  ,  30.  ,  60.  ,  24.  ,\n",
       "        24.  ,  24.  ,  25.  ,  18.  ,  19.  ,  22.  ,   3.  ,  37.  ,\n",
       "        22.  ,  27.  ,  20.  ,  19.  ,  42.  ,   1.  ,  32.  ,  35.  ,\n",
       "        24.  ,  18.  ,   1.  ,  36.  ,  24.  ,  17.  ,  36.  ,  21.  ,\n",
       "        28.  ,  23.  ,  24.  ,  22.  ,  31.  ,  46.  ,  23.  ,  28.  ,\n",
       "        39.  ,  26.  ,  21.  ,  28.  ,  20.  ,  34.  ,  51.  ,   3.  ,\n",
       "        21.  ,  24.  ,  24.  ,  24.  ,  33.  ,  29.  ,  44.  ,  24.  ,\n",
       "        34.  ,  18.  ,  30.  ,  10.  ,  24.  ,  21.  ,  29.  ,  28.  ,\n",
       "        18.  ,  24.  ,  28.  ,  19.  ,  24.  ,  32.  ,  28.  ,  24.  ,\n",
       "        42.  ,  17.  ,  50.  ,  14.  ,  21.  ,  24.  ,  64.  ,  31.  ,\n",
       "        45.  ,  20.  ,  25.  ,  28.  ,  24.  ,   4.  ,  13.  ,  34.  ,\n",
       "         5.  ,  52.  ,  36.  ,  24.  ,  30.  ,  49.  ,  24.  ,  29.  ,\n",
       "        65.  ,  37.  ,  50.  ,  24.  ,  48.  ,  34.  ,  47.  ,  48.  ,\n",
       "        24.  ,  38.  ,  29.  ,  56.  ,  24.  ,   0.75,  24.  ,  38.  ,\n",
       "        33.  ,  23.  ,  22.  ,  37.  ,  34.  ,  29.  ,  22.  ,   2.  ,\n",
       "         9.  ,  29.  ,  50.  ,  63.  ,  25.  ,  24.  ,  35.  ,  58.  ,\n",
       "        30.  ,   9.  ,  24.  ,  21.  ,  55.  ,  71.  ,  21.  ,  24.  ,\n",
       "        54.  ,  24.  ,  25.  ,  24.  ,  17.  ,  21.  ,  24.  ,  37.  ,\n",
       "        16.  ,  18.  ,  33.  ,  37.  ,  28.  ,  26.  ,  29.  ,  24.  ,\n",
       "        36.  ,  54.  ,  24.  ,  47.  ,  34.  ,  24.  ,  36.  ,  32.  ,\n",
       "        30.  ,  22.  ,  24.  ,  44.  ,  24.  ,  40.5 ,  50.  ,  37.  ,\n",
       "        39.  ,  23.  ,   2.  ,  24.  ,  17.  ,  24.  ,  30.  ,   7.  ,\n",
       "        45.  ,  30.  ,  24.  ,  22.  ,  36.  ,   9.  ,  11.  ,  32.  ,\n",
       "        50.  ,  64.  ,  19.  ,  29.  ,  33.  ,   8.  ,  17.  ,  27.  ,\n",
       "        24.  ,  22.  ,  22.  ,  62.  ,  48.  ,  37.  ,  39.  ,  36.  ,\n",
       "        24.  ,  40.  ,  28.  ,  24.  ,  24.  ,  24.  ,  19.  ,  29.  ,\n",
       "        24.  ,  32.  ,  62.  ,  53.  ,  36.  ,  24.  ,  16.  ,  19.  ,\n",
       "        34.  ,  39.  ,  24.  ,  32.  ,  25.  ,  39.  ,  54.  ,  36.  ,\n",
       "        24.  ,  18.  ,  47.  ,  60.  ,  22.  ,  24.  ,  35.  ,  52.  ,\n",
       "        47.  ,  24.  ,  37.  ,  36.  ,  29.  ,  49.  ,  24.  ,  49.  ,\n",
       "        24.  ,  24.  ,  37.  ,  44.  ,  35.  ,  36.  ,  30.  ,  27.  ,\n",
       "        22.  ,  40.  ,  39.  ,  24.  ,  24.  ,  24.  ,  35.  ,  24.  ,\n",
       "        34.  ,  26.  ,   4.  ,  26.  ,  27.  ,  42.  ,  20.  ,  21.  ,\n",
       "        21.  ,  61.  ,  57.  ,  21.  ,  26.  ,  24.  ,  80.  ,  51.  ,\n",
       "        32.  ,  37.  ,   9.  ,  28.  ,  32.  ,  31.  ,  41.  ,  24.  ,\n",
       "        20.  ,  24.  ,   2.  ,  24.  ,   0.75,  48.  ,  19.  ,  56.  ,\n",
       "        24.  ,  23.  ,  24.  ,  18.  ,  21.  ,  24.  ,  18.  ,  24.  ,\n",
       "        24.  ,  32.  ,  23.  ,  58.  ,  50.  ,  40.  ,  47.  ,  36.  ,\n",
       "        20.  ,  32.  ,  25.  ,  24.  ,  43.  ,  37.  ,  40.  ,  31.  ,\n",
       "        70.  ,  31.  ,  29.  ,  18.  ,  24.5 ,  18.  ,  43.  ,  36.  ,\n",
       "        24.  ,  27.  ,  20.  ,  14.  ,  60.  ,  25.  ,  14.  ,  19.  ,\n",
       "        18.  ,  15.  ,  31.  ,   4.  ,  24.  ,  25.  ,  60.  ,  52.  ,\n",
       "        44.  ,  24.  ,  49.  ,  42.  ,  18.  ,  35.  ,  18.  ,  25.  ,\n",
       "        26.  ,  39.  ,  45.  ,  42.  ,  22.  ,  24.  ,  24.  ,  37.  ,\n",
       "        48.  ,  29.  ,  52.  ,  19.  ,  38.  ,  27.  ,  24.  ,  33.  ,\n",
       "         6.  ,  17.  ,  34.  ,  50.  ,  27.  ,  20.  ,  30.  ,  24.  ,\n",
       "        25.  ,  25.  ,  29.  ,  11.  ,  29.  ,  23.  ,  23.  ,  28.5 ,\n",
       "        48.  ,  35.  ,  24.  ,  24.  ,  37.  ,  36.  ,  21.  ,  24.  ,\n",
       "        31.  ,  70.  ,  16.  ,  30.  ,  19.  ,  31.  ,   4.  ,   6.  ,\n",
       "        33.  ,  23.  ,  48.  ,   0.67,  28.  ,  18.  ,  34.  ,  33.  ,\n",
       "        24.  ,  41.  ,  20.  ,  36.  ,  16.  ,  51.  ,  37.  ,  30.5 ,\n",
       "        24.  ,  32.  ,  24.  ,  48.  ,  57.  ,  24.  ,  54.  ,  18.  ,\n",
       "        24.  ,   5.  ,  24.  ,  43.  ,  13.  ,  17.  ,  29.  ,  24.  ,\n",
       "        25.  ,  25.  ,  18.  ,   8.  ,   1.  ,  46.  ,  24.  ,  16.  ,\n",
       "        24.  ,  37.  ,  25.  ,  39.  ,  49.  ,  31.  ,  30.  ,  30.  ,\n",
       "        34.  ,  31.  ,  11.  ,   0.42,  27.  ,  31.  ,  39.  ,  18.  ,\n",
       "        39.  ,  33.  ,  26.  ,  39.  ,  35.  ,   6.  ,  30.5 ,  37.  ,\n",
       "        23.  ,  31.  ,  43.  ,  10.  ,  52.  ,  27.  ,  38.  ,  27.  ,\n",
       "         2.  ,  24.  ,  24.  ,   1.  ,  24.  ,  62.  ,  15.  ,   0.83,\n",
       "        24.  ,  23.  ,  18.  ,  39.  ,  21.  ,  24.  ,  32.  ,  37.  ,\n",
       "        20.  ,  16.  ,  30.  ,  34.5 ,  17.  ,  42.  ,  24.  ,  35.  ,\n",
       "        28.  ,  37.  ,   4.  ,  74.  ,   9.  ,  16.  ,  44.  ,  18.  ,\n",
       "        45.  ,  51.  ,  24.  ,  24.  ,  41.  ,  21.  ,  48.  ,  24.  ,\n",
       "        24.  ,  42.  ,  27.  ,  31.  ,  24.  ,   4.  ,  26.  ,  47.  ,\n",
       "        33.  ,  47.  ,  28.  ,  15.  ,  20.  ,  19.  ,  24.  ,  56.  ,\n",
       "        25.  ,  33.  ,  22.  ,  28.  ,  25.  ,  39.  ,  27.  ,  19.  ,\n",
       "        24.  ,  26.  ,  32.  ])"
      ]
     },
     "execution_count": 25,
     "metadata": {},
     "output_type": "execute_result"
    }
   ],
   "source": [
    "X=dataset.iloc[:,:-1].values\n",
    "X[:,2]"
   ]
  },
  {
   "cell_type": "code",
   "execution_count": 26,
   "metadata": {},
   "outputs": [
    {
     "data": {
      "text/plain": [
       "array([ 28.,  51.,  34.,  47.,  47.,  31.,  69.,   6.,  35.,  18.,   8.,\n",
       "        74.,  25.,  52.,  18.,  70.,   6.,  38.,  41.,  31.,  47.,  45.,\n",
       "        20.,  36.,  12.,  51.,  31.,  24.,  31.,  31.,  53.,  50.,  31.,\n",
       "        82.,  36.,  56.,  31.,  27.,  23.,  18.,  53.,  35.,  31.,   7.,\n",
       "        24.,  31.,  31.,  31.,  31.,  23.,  11.,  27.,  64.,  38.,  81.,\n",
       "        50.,  27.,  37.,   9.,  15.,  28.,  51.,  59.,   8.,  50.,  31.,\n",
       "        38.,  24.,  22.,  34.,  42.,  21.,  27.,  34.,  42.,  33.,  31.,\n",
       "        31.,   3.,  39.,  28.,  38.,  31.,  36.,  22.,  44.,  21.,  31.,\n",
       "        29.,  31.,  38.,  25.,  61.,  34.,  75.,  31.,  85.,  29.,  45.,\n",
       "        45.,  36.,  31.,  27.,  44.,  50.,  36.,  27.,  31.,  51.,  31.,\n",
       "        62.,  19.,  28.,  25.,  22.,  27.,  84.,  38.,  31.,   6.,  27.,\n",
       "        31.,  43.,  43.,  69.,  16.,  31.,  31.,  31.,  59.,  44.,  25.,\n",
       "        62.,  38.,  33.,  29.,  24.,  50.,  21.,  31.,  31.,  28.,  31.,\n",
       "        24.,  23.,  24.,  35.,  13.,  49.,  56.,  66.,  28.,  71.,  54.,\n",
       "        31.,  66.,  21.,  39.,  31.,  31.,  58.,  53.,  34.,  22.,   5.,\n",
       "        13.,  50.,  59.,  50.,  36.,  77.,   8.,   5.,  27.,  72.,  23.,\n",
       "        31.,  65.,  39.,  48.,  31.,  38.,  13.,   5.,   8.,  50.,  31.,\n",
       "        59.,  53.,  48.,  42.,  24.,  24.,   7.,  58.,  74.,  31.,  56.,\n",
       "        31.,  31.,  36.,  31.,  45.,  60.,  23.,   6.,  42.,  34.,  21.,\n",
       "        53.,  31.,  47.,  28.,  39.,  31.,  41.,  35.,  56.,  42.,  39.,\n",
       "        21.,  35.,  66.,  31.,  51.,  28.,  24.,  26.,  23.,  31.,  47.,\n",
       "        38.,  75.,   9.,  31.,  31.,  58.,  12.,  24.,  44.,  31.,  31.,\n",
       "        38.,  28.,  39.,  58.,  33.,  31.,  50.,  69.,  31.,  38.,  78.,\n",
       "        39.,  55.,  38.,  50.,  39.,  47.,  65.,  31.,   7.,  67.,  53.,\n",
       "        31.,  48.,  21.,  33.,  74.,  47.,  50.,  33.,  55.,  50.,  31.,\n",
       "        79.,  59.,  38.,  11.,  47.,  81.,  36.,  21.,  24.,  50.,  44.,\n",
       "        39.,  28.,  56.,  28.,  34.,  24.,  48.,  31.,  31.,  50.,  30.,\n",
       "         6.,  50.,  65.,  31.,  31.,  24.,  38.,  31.,   4.,  50.,  22.,\n",
       "        39.,  39.,  31.,  23.,  34.,  36.,  57.,  34.,  31.,  69.,  41.,\n",
       "        53.,  28.,  35.,  39.,  28.,  31.,  48.,  77.,  48.,  41.,  21.,\n",
       "        31.,  60.,  51.,  21.,  50.,  31.,  38.,  55.,  59.,  59.,   6.,\n",
       "        31.,  36.,  33.,  48.,  31.,  53.,  31.,   7.,  56.,  29.,  50.,\n",
       "        20.,  33.,  31.,  36.,  28.,  51.,  31.,  31.,  53.,  38.,  59.,\n",
       "        47.,  31.,  39.,  76.,  31.,  31.,  31.,  33.,  23.,  24.,  28.,\n",
       "         7.,  50.,  28.,  35.,  25.,  24.,  56.,   5.,  42.,  47.,  31.,\n",
       "        23.,   5.,  48.,  31.,  22.,  48.,  27.,  36.,  29.,  31.,  28.,\n",
       "        41.,  61.,  29.,  36.,  52.,  34.,  27.,  36.,  25.,  45.,  66.,\n",
       "         7.,  27.,  31.,  31.,  31.,  44.,  38.,  58.,  31.,  45.,  23.,\n",
       "        39.,  14.,  31.,  27.,  38.,  36.,  23.,  31.,  36.,  24.,  31.,\n",
       "        42.,  36.,  31.,  56.,  22.,  65.,  18.,  27.,  31.,  80.,  41.,\n",
       "        59.,  25.,  33.,  36.,  31.,   8.,  17.,  45.,   9.,  67.,  48.,\n",
       "        31.,  39.,  64.,  31.,  38.,  81.,  50.,  65.,  31.,  63.,  45.,\n",
       "        62.,  63.,  31.,  51.,  38.,  72.,  31.,   2.,  31.,  51.,  44.,\n",
       "        29.,  28.,  50.,  45.,  38.,  28.,   6.,  13.,  38.,  65.,  79.,\n",
       "        33.,  31.,  47.,  74.,  39.,  13.,  31.,  27.,  70.,  85.,  27.,\n",
       "        31.,  69.,  31.,  33.,  31.,  22.,  27.,  31.,  50.,  21.,  23.,\n",
       "        44.,  50.,  36.,  34.,  38.,  31.,  48.,  69.,  31.,  62.,  45.,\n",
       "        31.,  48.,  42.,  39.,  28.,  31.,  58.,  31.,  54.,  65.,  50.,\n",
       "        52.,  29.,   6.,  31.,  22.,  31.,  39.,  11.,  59.,  39.,  31.,\n",
       "        28.,  48.,  13.,  15.,  42.,  65.,  80.,  24.,  38.,  44.,  12.,\n",
       "        22.,  35.,  31.,  28.,  28.,  78.,  63.,  50.,  52.,  48.,  31.,\n",
       "        53.,  36.,  31.,  31.,  31.,  24.,  38.,  31.,  42.,  78.,  68.,\n",
       "        48.,  31.,  21.,  24.,  45.,  52.,  31.,  42.,  33.,  52.,  69.,\n",
       "        48.,  31.,  23.,  62.,  76.,  28.,  31.,  47.,  67.,  62.,  31.,\n",
       "        50.,  48.,  38.,  64.,  31.,  64.,  31.,  31.,  50.,  58.,  47.,\n",
       "        48.,  39.,  35.,  28.,  53.,  52.,  31.,  31.,  31.,  47.,  31.,\n",
       "        45.,  34.,   8.,  34.,  35.,  56.,  25.,  27.,  27.,  77.,  73.,\n",
       "        27.,  34.,  31.,  87.,  66.,  42.,  50.,  13.,  36.,  42.,  41.,\n",
       "        55.,  31.,  25.,  31.,   6.,  31.,   2.,  63.,  24.,  72.,  31.,\n",
       "        29.,  31.,  23.,  27.,  31.,  23.,  31.,  31.,  42.,  29.,  74.,\n",
       "        65.,  53.,  62.,  48.,  25.,  42.,  33.,  31.,  57.,  50.,  53.,\n",
       "        41.,  83.,  41.,  38.,  23.,  32.,  23.,  57.,  48.,  31.,  35.,\n",
       "        25.,  18.,  76.,  33.,  18.,  24.,  23.,  20.,  41.,   8.,  31.,\n",
       "        33.,  76.,  67.,  58.,  31.,  64.,  56.,  23.,  47.,  23.,  33.,\n",
       "        34.,  52.,  59.,  56.,  28.,  31.,  31.,  50.,  63.,  38.,  67.,\n",
       "        24.,  51.,  35.,  31.,  44.,  10.,  22.,  45.,  65.,  35.,  25.,\n",
       "        39.,  31.,  33.,  33.,  38.,  15.,  38.,  29.,  29.,  37.,  63.,\n",
       "        47.,  31.,  31.,  50.,  48.,  27.,  31.,  41.,  83.,  21.,  39.,\n",
       "        24.,  41.,   8.,  10.,  44.,  29.,  63.,   1.,  36.,  23.,  45.,\n",
       "        44.,  31.,  55.,  25.,  48.,  21.,  66.,  50.,  40.,  31.,  42.,\n",
       "        31.,  63.,  73.,  31.,  69.,  23.,  31.,   9.,  31.,  57.,  17.,\n",
       "        22.,  38.,  31.,  33.,  33.,  23.,  12.,   5.,  61.,  31.,  21.,\n",
       "        31.,  50.,  33.,  52.,  64.,  41.,  39.,  39.,  45.,  41.,  15.,\n",
       "         0.,  35.,  41.,  52.,  23.,  52.,  44.,  34.,  52.,  47.,  10.,\n",
       "        40.,  50.,  29.,  41.,  57.,  14.,  67.,  35.,  51.,  35.,   6.,\n",
       "        31.,  31.,   5.,  31.,  78.,  20.,   3.,  31.,  29.,  23.,  52.,\n",
       "        27.,  31.,  42.,  50.,  25.,  21.,  39.,  46.,  22.,  56.,  31.,\n",
       "        47.,  36.,  50.,   8.,  86.,  13.,  21.,  58.,  23.,  59.,  66.,\n",
       "        31.,  31.,  55.,  27.,  63.,  31.,  31.,  56.,  35.,  41.,  31.,\n",
       "         8.,  34.,  62.,  44.,  62.,  36.,  20.,  25.,  24.,  31.,  72.,\n",
       "        33.,  44.,  28.,  36.,  33.,  52.,  35.,  24.,  31.,  34.,  42.])"
      ]
     },
     "execution_count": 26,
     "metadata": {},
     "output_type": "execute_result"
    }
   ],
   "source": [
    "from sklearn.preprocessing import LabelEncoder , OneHotEncoder\n",
    "labelencoder_X=LabelEncoder()\n",
    "X[:,2]=labelencoder_X.fit_transform(X[:,2])\n",
    "X[:,2]"
   ]
  },
  {
   "cell_type": "code",
   "execution_count": 27,
   "metadata": {},
   "outputs": [
    {
     "data": {
      "text/plain": [
       "array([ 0.,  1.,  1.,  1.,  0.,  0.,  0.,  0.,  1.,  1.,  1.,  1.,  0.,\n",
       "        0.,  0.,  1.,  0.,  1.,  0.,  1.,  0.,  1.,  1.,  1.,  0.,  1.,\n",
       "        0.,  0.,  1.,  0.,  0.,  1.,  1.,  0.,  0.,  0.,  1.,  0.,  0.,\n",
       "        1.,  0.,  0.,  0.,  1.,  1.,  0.,  0.,  1.,  0.,  0.,  0.,  0.,\n",
       "        1.,  1.,  0.,  1.,  1.,  0.,  1.,  0.,  0.,  1.,  0.,  0.,  0.,\n",
       "        1.,  1.,  0.,  1.,  0.,  0.,  0.,  0.,  0.,  1.,  0.,  0.,  0.,\n",
       "        1.,  1.,  0.,  1.,  1.,  0.,  1.,  1.,  0.,  0.,  1.,  0.,  0.,\n",
       "        0.,  0.,  0.,  0.,  0.,  0.,  1.,  1.,  0.,  0.,  0.,  0.,  0.,\n",
       "        0.,  0.,  1.,  1.,  0.,  1.,  0.,  0.,  0.,  0.,  0.,  0.,  0.,\n",
       "        0.,  0.,  0.,  0.,  0.,  0.,  1.,  0.,  1.,  0.,  1.,  1.,  0.,\n",
       "        0.,  0.,  0.,  1.,  0.,  0.,  1.,  0.,  0.,  0.,  0.,  1.,  1.,\n",
       "        0.,  0.,  0.,  1.,  0.,  0.,  0.,  0.,  1.,  0.,  0.,  0.,  0.,\n",
       "        1.,  0.,  0.,  0.,  0.,  1.,  0.,  0.,  0.,  1.,  1.,  0.,  0.,\n",
       "        0.,  0.,  0.,  1.,  0.,  0.,  0.,  0.,  0.,  0.,  0.,  0.,  0.,\n",
       "        0.,  1.,  1.,  0.,  1.,  1.,  0.,  0.,  1.,  0.,  1.,  1.,  1.,\n",
       "        1.,  0.,  0.,  1.,  0.,  0.,  0.,  0.,  0.,  1.,  0.,  0.,  1.,\n",
       "        1.,  1.,  0.,  1.,  0.,  0.,  0.,  1.,  1.,  0.,  1.,  0.,  1.,\n",
       "        0.,  0.,  0.,  1.,  0.,  1.,  0.,  0.,  0.,  1.,  0.,  0.,  1.,\n",
       "        0.,  0.,  0.,  1.,  0.,  0.,  0.,  1.,  0.,  0.,  0.,  0.,  0.,\n",
       "        1.,  1.,  0.,  0.,  0.,  0.,  0.,  0.,  1.,  1.,  1.,  1.,  1.,\n",
       "        0.,  1.,  0.,  0.,  0.,  0.,  0.,  1.,  1.,  1.,  0.,  1.,  1.,\n",
       "        0.,  1.,  1.,  0.,  0.,  0.,  1.,  0.,  0.,  0.,  1.,  0.,  0.,\n",
       "        1.,  0.,  1.,  1.,  1.,  1.,  0.,  0.,  0.,  0.,  0.,  0.,  1.,\n",
       "        1.,  1.,  1.,  0.,  1.,  0.,  1.,  1.,  1.,  0.,  1.,  1.,  1.,\n",
       "        0.,  0.,  0.,  1.,  1.,  0.,  1.,  1.,  0.,  0.,  1.,  1.,  0.,\n",
       "        1.,  0.,  1.,  1.,  1.,  1.,  0.,  0.,  0.,  1.,  0.,  0.,  1.,\n",
       "        1.,  0.,  1.,  1.,  0.,  0.,  0.,  1.,  1.,  1.,  1.,  0.,  0.,\n",
       "        0.,  0.,  0.,  0.,  0.,  1.,  0.,  1.,  1.,  0.,  0.,  0.,  0.,\n",
       "        0.,  0.,  1.,  1.,  1.,  1.,  1.,  0.,  0.,  0.,  0.,  1.,  1.,\n",
       "        0.,  0.,  0.,  1.,  1.,  0.,  1.,  0.,  0.,  0.,  1.,  0.,  1.,\n",
       "        1.,  1.,  0.,  1.,  1.,  0.,  0.,  0.,  0.,  1.,  1.,  0.,  0.,\n",
       "        0.,  0.,  0.,  0.,  1.,  0.,  0.,  0.,  0.,  1.,  0.,  1.,  0.,\n",
       "        1.,  1.,  0.,  0.,  0.,  0.,  0.,  0.,  0.,  0.,  1.,  1.,  0.,\n",
       "        1.,  1.,  1.,  1.,  0.,  0.,  1.,  0.,  1.,  0.,  0.,  1.,  0.,\n",
       "        0.,  1.,  1.,  1.,  1.,  1.,  1.,  1.,  0.,  0.,  0.,  1.,  0.,\n",
       "        1.,  0.,  1.,  1.,  0.,  1.,  0.,  0.,  0.,  0.,  0.,  0.,  0.,\n",
       "        0.,  1.,  0.,  0.,  1.,  1.,  0.,  0.,  0.,  0.,  0.,  1.,  0.,\n",
       "        0.,  0.,  1.,  1.,  0.,  1.,  0.,  0.,  1.,  0.,  0.,  0.,  0.,\n",
       "        0.,  0.,  1.,  0.,  0.,  0.,  0.,  0.,  0.,  0.,  1.,  0.,  1.,\n",
       "        1.,  0.,  1.,  1.,  0.,  1.,  1.,  0.,  0.,  1.,  0.,  1.,  0.,\n",
       "        1.,  0.,  0.,  1.,  0.,  0.,  1.,  0.,  0.,  0.,  1.,  0.,  0.,\n",
       "        1.,  0.,  1.,  0.,  1.,  0.,  1.,  1.,  0.,  0.,  1.,  0.,  0.,\n",
       "        1.,  1.,  0.,  1.,  1.,  0.,  0.,  1.,  1.,  0.,  1.,  0.,  1.,\n",
       "        1.,  0.,  0.,  0.,  0.,  0.,  0.,  0.,  0.,  0.,  1.,  1.,  1.,\n",
       "        1.,  1.,  0.,  0.,  1.,  1.,  0.,  1.,  1.,  1.,  0.,  0.,  0.,\n",
       "        1.,  0.,  1.,  0.,  0.,  0.,  1.,  0.,  0.,  0.,  0.,  1.,  0.,\n",
       "        0.,  1.,  1.,  0.,  0.,  0.,  1.,  0.,  0.,  1.,  1.,  1.,  0.,\n",
       "        0.,  1.,  0.,  0.,  1.,  0.,  0.,  1.,  0.,  0.,  1.,  1.,  0.,\n",
       "        0.,  0.,  0.,  1.,  0.,  0.,  1.,  0.,  1.,  0.,  0.,  1.,  0.,\n",
       "        0.,  0.,  0.,  0.,  1.,  0.,  1.,  1.,  1.,  0.,  1.,  0.,  1.,\n",
       "        0.,  1.,  0.,  1.,  0.,  0.,  0.,  0.,  0.,  0.,  1.,  0.,  0.,\n",
       "        0.,  1.,  0.,  0.,  0.,  0.,  1.,  1.,  0.,  0.,  1.,  0.,  0.,\n",
       "        0.,  1.,  0.,  1.,  0.,  1.,  0.,  0.,  0.,  0.,  0.,  0.,  0.,\n",
       "        1.,  1.,  1.,  1.,  0.,  0.,  0.,  0.,  1.,  0.,  0.,  1.,  1.,\n",
       "        0.,  0.,  0.,  0.,  1.,  1.,  1.,  1.,  1.,  0.,  1.,  0.,  0.,\n",
       "        0.,  1.,  1.,  0.,  0.,  1.,  0.,  0.,  0.,  1.,  0.,  1.,  1.,\n",
       "        0.,  0.,  1.,  0.,  0.,  0.,  0.,  0.,  0.,  1.,  0.,  0.,  1.,\n",
       "        0.,  1.,  0.,  1.,  0.,  0.,  1.,  0.,  0.,  1.,  1.,  0.,  0.,\n",
       "        1.,  1.,  0.,  0.,  0.,  1.,  0.,  0.,  1.,  1.,  0.,  1.,  0.,\n",
       "        0.,  0.,  0.,  0.,  0.,  0.,  0.,  1.,  0.,  0.,  1.,  0.,  1.,\n",
       "        1.,  1.,  0.,  0.,  0.,  0.,  1.,  0.,  1.,  0.,  0.,  0.,  0.,\n",
       "        0.,  0.,  0.,  1.,  1.,  0.,  0.,  0.,  1.,  1.,  1.,  1.,  0.,\n",
       "        0.,  0.,  0.,  1.,  0.,  0.,  0.,  0.,  0.,  0.,  0.,  0.,  0.,\n",
       "        0.,  1.,  1.,  0.,  1.,  0.,  0.,  0.,  1.,  1.,  1.,  1.,  1.,\n",
       "        0.,  0.,  0.,  1.,  0.,  0.,  1.,  1.,  0.,  0.,  1.,  0.,  0.,\n",
       "        0.,  0.,  0.,  0.,  1.,  0.,  0.,  0.,  1.,  0.,  1.,  1.,  1.,\n",
       "        1.,  0.,  0.,  0.,  1.,  0.,  0.,  1.,  1.,  0.,  0.,  1.,  0.,\n",
       "        1.,  0.,  0.,  1.,  1.,  0.,  0.,  0.,  1.,  1.,  0.,  0.,  0.,\n",
       "        0.,  0.,  0.,  1.,  0.,  1.,  0.])"
      ]
     },
     "execution_count": 27,
     "metadata": {},
     "output_type": "execute_result"
    }
   ],
   "source": [
    "X[:,0] = labelencoder_X.fit_transform(X[:,0])\n",
    "X[:,0]"
   ]
  },
  {
   "cell_type": "code",
   "execution_count": 28,
   "metadata": {},
   "outputs": [
    {
     "data": {
      "text/plain": [
       "array([[  0.    ,   3.    ,  28.    , ...,   7.25  ,   1.    ,   0.    ],\n",
       "       [  1.    ,   1.    ,  51.    , ...,  71.2833,   0.    ,   0.    ],\n",
       "       [  1.    ,   3.    ,  34.    , ...,   7.925 ,   0.    ,   0.    ],\n",
       "       ..., \n",
       "       [  0.    ,   3.    ,  31.    , ...,  23.45  ,   0.    ,   0.    ],\n",
       "       [  1.    ,   1.    ,  34.    , ...,  30.    ,   1.    ,   0.    ],\n",
       "       [  0.    ,   3.    ,  42.    , ...,   7.75  ,   1.    ,   1.    ]])"
      ]
     },
     "execution_count": 28,
     "metadata": {},
     "output_type": "execute_result"
    }
   ],
   "source": [
    "X"
   ]
  },
  {
   "cell_type": "code",
   "execution_count": 29,
   "metadata": {},
   "outputs": [
    {
     "data": {
      "text/html": [
       "<div>\n",
       "<style>\n",
       "    .dataframe thead tr:only-child th {\n",
       "        text-align: right;\n",
       "    }\n",
       "\n",
       "    .dataframe thead th {\n",
       "        text-align: left;\n",
       "    }\n",
       "\n",
       "    .dataframe tbody tr th {\n",
       "        vertical-align: top;\n",
       "    }\n",
       "</style>\n",
       "<table border=\"1\" class=\"dataframe\">\n",
       "  <thead>\n",
       "    <tr style=\"text-align: right;\">\n",
       "      <th></th>\n",
       "      <th>Pclass</th>\n",
       "      <th>Age</th>\n",
       "      <th>SibSp</th>\n",
       "      <th>Parch</th>\n",
       "      <th>Fare</th>\n",
       "      <th>male</th>\n",
       "      <th>Q</th>\n",
       "      <th>S</th>\n",
       "      <th>Survived</th>\n",
       "    </tr>\n",
       "  </thead>\n",
       "  <tbody>\n",
       "    <tr>\n",
       "      <th>331</th>\n",
       "      <td>1</td>\n",
       "      <td>45.5</td>\n",
       "      <td>0</td>\n",
       "      <td>0</td>\n",
       "      <td>28.5000</td>\n",
       "      <td>1</td>\n",
       "      <td>0</td>\n",
       "      <td>1</td>\n",
       "      <td>0</td>\n",
       "    </tr>\n",
       "    <tr>\n",
       "      <th>700</th>\n",
       "      <td>1</td>\n",
       "      <td>18.0</td>\n",
       "      <td>1</td>\n",
       "      <td>0</td>\n",
       "      <td>227.5250</td>\n",
       "      <td>0</td>\n",
       "      <td>0</td>\n",
       "      <td>0</td>\n",
       "      <td>1</td>\n",
       "    </tr>\n",
       "    <tr>\n",
       "      <th>748</th>\n",
       "      <td>1</td>\n",
       "      <td>19.0</td>\n",
       "      <td>1</td>\n",
       "      <td>0</td>\n",
       "      <td>53.1000</td>\n",
       "      <td>1</td>\n",
       "      <td>0</td>\n",
       "      <td>1</td>\n",
       "      <td>0</td>\n",
       "    </tr>\n",
       "    <tr>\n",
       "      <th>751</th>\n",
       "      <td>3</td>\n",
       "      <td>6.0</td>\n",
       "      <td>0</td>\n",
       "      <td>1</td>\n",
       "      <td>12.4750</td>\n",
       "      <td>1</td>\n",
       "      <td>0</td>\n",
       "      <td>1</td>\n",
       "      <td>1</td>\n",
       "    </tr>\n",
       "    <tr>\n",
       "      <th>481</th>\n",
       "      <td>2</td>\n",
       "      <td>29.0</td>\n",
       "      <td>0</td>\n",
       "      <td>0</td>\n",
       "      <td>0.0000</td>\n",
       "      <td>1</td>\n",
       "      <td>0</td>\n",
       "      <td>1</td>\n",
       "      <td>0</td>\n",
       "    </tr>\n",
       "    <tr>\n",
       "      <th>845</th>\n",
       "      <td>3</td>\n",
       "      <td>42.0</td>\n",
       "      <td>0</td>\n",
       "      <td>0</td>\n",
       "      <td>7.5500</td>\n",
       "      <td>1</td>\n",
       "      <td>0</td>\n",
       "      <td>1</td>\n",
       "      <td>0</td>\n",
       "    </tr>\n",
       "    <tr>\n",
       "      <th>740</th>\n",
       "      <td>1</td>\n",
       "      <td>37.0</td>\n",
       "      <td>0</td>\n",
       "      <td>0</td>\n",
       "      <td>30.0000</td>\n",
       "      <td>1</td>\n",
       "      <td>0</td>\n",
       "      <td>1</td>\n",
       "      <td>1</td>\n",
       "    </tr>\n",
       "    <tr>\n",
       "      <th>287</th>\n",
       "      <td>3</td>\n",
       "      <td>22.0</td>\n",
       "      <td>0</td>\n",
       "      <td>0</td>\n",
       "      <td>7.8958</td>\n",
       "      <td>1</td>\n",
       "      <td>0</td>\n",
       "      <td>1</td>\n",
       "      <td>0</td>\n",
       "    </tr>\n",
       "    <tr>\n",
       "      <th>669</th>\n",
       "      <td>1</td>\n",
       "      <td>37.0</td>\n",
       "      <td>1</td>\n",
       "      <td>0</td>\n",
       "      <td>52.0000</td>\n",
       "      <td>0</td>\n",
       "      <td>0</td>\n",
       "      <td>1</td>\n",
       "      <td>1</td>\n",
       "    </tr>\n",
       "    <tr>\n",
       "      <th>241</th>\n",
       "      <td>3</td>\n",
       "      <td>24.0</td>\n",
       "      <td>1</td>\n",
       "      <td>0</td>\n",
       "      <td>15.5000</td>\n",
       "      <td>0</td>\n",
       "      <td>1</td>\n",
       "      <td>0</td>\n",
       "      <td>1</td>\n",
       "    </tr>\n",
       "    <tr>\n",
       "      <th>413</th>\n",
       "      <td>2</td>\n",
       "      <td>29.0</td>\n",
       "      <td>0</td>\n",
       "      <td>0</td>\n",
       "      <td>0.0000</td>\n",
       "      <td>1</td>\n",
       "      <td>0</td>\n",
       "      <td>1</td>\n",
       "      <td>0</td>\n",
       "    </tr>\n",
       "    <tr>\n",
       "      <th>636</th>\n",
       "      <td>3</td>\n",
       "      <td>32.0</td>\n",
       "      <td>0</td>\n",
       "      <td>0</td>\n",
       "      <td>7.9250</td>\n",
       "      <td>1</td>\n",
       "      <td>0</td>\n",
       "      <td>1</td>\n",
       "      <td>0</td>\n",
       "    </tr>\n",
       "    <tr>\n",
       "      <th>448</th>\n",
       "      <td>3</td>\n",
       "      <td>5.0</td>\n",
       "      <td>2</td>\n",
       "      <td>1</td>\n",
       "      <td>19.2583</td>\n",
       "      <td>0</td>\n",
       "      <td>0</td>\n",
       "      <td>0</td>\n",
       "      <td>1</td>\n",
       "    </tr>\n",
       "    <tr>\n",
       "      <th>127</th>\n",
       "      <td>3</td>\n",
       "      <td>24.0</td>\n",
       "      <td>0</td>\n",
       "      <td>0</td>\n",
       "      <td>7.1417</td>\n",
       "      <td>1</td>\n",
       "      <td>0</td>\n",
       "      <td>1</td>\n",
       "      <td>1</td>\n",
       "    </tr>\n",
       "    <tr>\n",
       "      <th>630</th>\n",
       "      <td>1</td>\n",
       "      <td>80.0</td>\n",
       "      <td>0</td>\n",
       "      <td>0</td>\n",
       "      <td>30.0000</td>\n",
       "      <td>1</td>\n",
       "      <td>0</td>\n",
       "      <td>1</td>\n",
       "      <td>1</td>\n",
       "    </tr>\n",
       "    <tr>\n",
       "      <th>672</th>\n",
       "      <td>2</td>\n",
       "      <td>70.0</td>\n",
       "      <td>0</td>\n",
       "      <td>0</td>\n",
       "      <td>10.5000</td>\n",
       "      <td>1</td>\n",
       "      <td>0</td>\n",
       "      <td>1</td>\n",
       "      <td>0</td>\n",
       "    </tr>\n",
       "    <tr>\n",
       "      <th>889</th>\n",
       "      <td>1</td>\n",
       "      <td>26.0</td>\n",
       "      <td>0</td>\n",
       "      <td>0</td>\n",
       "      <td>30.0000</td>\n",
       "      <td>1</td>\n",
       "      <td>0</td>\n",
       "      <td>0</td>\n",
       "      <td>1</td>\n",
       "    </tr>\n",
       "    <tr>\n",
       "      <th>500</th>\n",
       "      <td>3</td>\n",
       "      <td>17.0</td>\n",
       "      <td>0</td>\n",
       "      <td>0</td>\n",
       "      <td>8.6625</td>\n",
       "      <td>1</td>\n",
       "      <td>0</td>\n",
       "      <td>1</td>\n",
       "      <td>0</td>\n",
       "    </tr>\n",
       "    <tr>\n",
       "      <th>495</th>\n",
       "      <td>3</td>\n",
       "      <td>24.0</td>\n",
       "      <td>0</td>\n",
       "      <td>0</td>\n",
       "      <td>14.4583</td>\n",
       "      <td>1</td>\n",
       "      <td>0</td>\n",
       "      <td>0</td>\n",
       "      <td>0</td>\n",
       "    </tr>\n",
       "    <tr>\n",
       "      <th>323</th>\n",
       "      <td>2</td>\n",
       "      <td>22.0</td>\n",
       "      <td>1</td>\n",
       "      <td>1</td>\n",
       "      <td>29.0000</td>\n",
       "      <td>0</td>\n",
       "      <td>0</td>\n",
       "      <td>1</td>\n",
       "      <td>1</td>\n",
       "    </tr>\n",
       "    <tr>\n",
       "      <th>614</th>\n",
       "      <td>3</td>\n",
       "      <td>35.0</td>\n",
       "      <td>0</td>\n",
       "      <td>0</td>\n",
       "      <td>8.0500</td>\n",
       "      <td>1</td>\n",
       "      <td>0</td>\n",
       "      <td>1</td>\n",
       "      <td>0</td>\n",
       "    </tr>\n",
       "    <tr>\n",
       "      <th>182</th>\n",
       "      <td>3</td>\n",
       "      <td>9.0</td>\n",
       "      <td>4</td>\n",
       "      <td>2</td>\n",
       "      <td>31.3875</td>\n",
       "      <td>1</td>\n",
       "      <td>0</td>\n",
       "      <td>1</td>\n",
       "      <td>0</td>\n",
       "    </tr>\n",
       "    <tr>\n",
       "      <th>727</th>\n",
       "      <td>3</td>\n",
       "      <td>24.0</td>\n",
       "      <td>0</td>\n",
       "      <td>0</td>\n",
       "      <td>7.7375</td>\n",
       "      <td>0</td>\n",
       "      <td>1</td>\n",
       "      <td>0</td>\n",
       "      <td>1</td>\n",
       "    </tr>\n",
       "    <tr>\n",
       "      <th>109</th>\n",
       "      <td>3</td>\n",
       "      <td>24.0</td>\n",
       "      <td>1</td>\n",
       "      <td>0</td>\n",
       "      <td>24.1500</td>\n",
       "      <td>0</td>\n",
       "      <td>1</td>\n",
       "      <td>0</td>\n",
       "      <td>1</td>\n",
       "    </tr>\n",
       "    <tr>\n",
       "      <th>873</th>\n",
       "      <td>3</td>\n",
       "      <td>47.0</td>\n",
       "      <td>0</td>\n",
       "      <td>0</td>\n",
       "      <td>9.0000</td>\n",
       "      <td>1</td>\n",
       "      <td>0</td>\n",
       "      <td>1</td>\n",
       "      <td>0</td>\n",
       "    </tr>\n",
       "    <tr>\n",
       "      <th>694</th>\n",
       "      <td>1</td>\n",
       "      <td>60.0</td>\n",
       "      <td>0</td>\n",
       "      <td>0</td>\n",
       "      <td>26.5500</td>\n",
       "      <td>1</td>\n",
       "      <td>0</td>\n",
       "      <td>1</td>\n",
       "      <td>0</td>\n",
       "    </tr>\n",
       "    <tr>\n",
       "      <th>138</th>\n",
       "      <td>3</td>\n",
       "      <td>16.0</td>\n",
       "      <td>0</td>\n",
       "      <td>0</td>\n",
       "      <td>9.2167</td>\n",
       "      <td>1</td>\n",
       "      <td>0</td>\n",
       "      <td>1</td>\n",
       "      <td>0</td>\n",
       "    </tr>\n",
       "    <tr>\n",
       "      <th>361</th>\n",
       "      <td>2</td>\n",
       "      <td>29.0</td>\n",
       "      <td>1</td>\n",
       "      <td>0</td>\n",
       "      <td>27.7208</td>\n",
       "      <td>1</td>\n",
       "      <td>0</td>\n",
       "      <td>0</td>\n",
       "      <td>0</td>\n",
       "    </tr>\n",
       "    <tr>\n",
       "      <th>7</th>\n",
       "      <td>3</td>\n",
       "      <td>2.0</td>\n",
       "      <td>3</td>\n",
       "      <td>1</td>\n",
       "      <td>21.0750</td>\n",
       "      <td>1</td>\n",
       "      <td>0</td>\n",
       "      <td>1</td>\n",
       "      <td>0</td>\n",
       "    </tr>\n",
       "    <tr>\n",
       "      <th>548</th>\n",
       "      <td>3</td>\n",
       "      <td>33.0</td>\n",
       "      <td>1</td>\n",
       "      <td>1</td>\n",
       "      <td>20.5250</td>\n",
       "      <td>1</td>\n",
       "      <td>0</td>\n",
       "      <td>1</td>\n",
       "      <td>0</td>\n",
       "    </tr>\n",
       "    <tr>\n",
       "      <th>...</th>\n",
       "      <td>...</td>\n",
       "      <td>...</td>\n",
       "      <td>...</td>\n",
       "      <td>...</td>\n",
       "      <td>...</td>\n",
       "      <td>...</td>\n",
       "      <td>...</td>\n",
       "      <td>...</td>\n",
       "      <td>...</td>\n",
       "    </tr>\n",
       "    <tr>\n",
       "      <th>421</th>\n",
       "      <td>3</td>\n",
       "      <td>21.0</td>\n",
       "      <td>0</td>\n",
       "      <td>0</td>\n",
       "      <td>7.7333</td>\n",
       "      <td>1</td>\n",
       "      <td>1</td>\n",
       "      <td>0</td>\n",
       "      <td>0</td>\n",
       "    </tr>\n",
       "    <tr>\n",
       "      <th>56</th>\n",
       "      <td>2</td>\n",
       "      <td>21.0</td>\n",
       "      <td>0</td>\n",
       "      <td>0</td>\n",
       "      <td>10.5000</td>\n",
       "      <td>0</td>\n",
       "      <td>0</td>\n",
       "      <td>1</td>\n",
       "      <td>1</td>\n",
       "    </tr>\n",
       "    <tr>\n",
       "      <th>240</th>\n",
       "      <td>3</td>\n",
       "      <td>24.0</td>\n",
       "      <td>1</td>\n",
       "      <td>0</td>\n",
       "      <td>14.4542</td>\n",
       "      <td>0</td>\n",
       "      <td>0</td>\n",
       "      <td>0</td>\n",
       "      <td>0</td>\n",
       "    </tr>\n",
       "    <tr>\n",
       "      <th>544</th>\n",
       "      <td>1</td>\n",
       "      <td>50.0</td>\n",
       "      <td>1</td>\n",
       "      <td>0</td>\n",
       "      <td>106.4250</td>\n",
       "      <td>1</td>\n",
       "      <td>0</td>\n",
       "      <td>0</td>\n",
       "      <td>0</td>\n",
       "    </tr>\n",
       "    <tr>\n",
       "      <th>738</th>\n",
       "      <td>3</td>\n",
       "      <td>24.0</td>\n",
       "      <td>0</td>\n",
       "      <td>0</td>\n",
       "      <td>7.8958</td>\n",
       "      <td>1</td>\n",
       "      <td>0</td>\n",
       "      <td>1</td>\n",
       "      <td>0</td>\n",
       "    </tr>\n",
       "    <tr>\n",
       "      <th>718</th>\n",
       "      <td>3</td>\n",
       "      <td>24.0</td>\n",
       "      <td>0</td>\n",
       "      <td>0</td>\n",
       "      <td>15.5000</td>\n",
       "      <td>1</td>\n",
       "      <td>1</td>\n",
       "      <td>0</td>\n",
       "      <td>0</td>\n",
       "    </tr>\n",
       "    <tr>\n",
       "      <th>645</th>\n",
       "      <td>1</td>\n",
       "      <td>48.0</td>\n",
       "      <td>1</td>\n",
       "      <td>0</td>\n",
       "      <td>76.7292</td>\n",
       "      <td>1</td>\n",
       "      <td>0</td>\n",
       "      <td>0</td>\n",
       "      <td>1</td>\n",
       "    </tr>\n",
       "    <tr>\n",
       "      <th>786</th>\n",
       "      <td>3</td>\n",
       "      <td>18.0</td>\n",
       "      <td>0</td>\n",
       "      <td>0</td>\n",
       "      <td>7.4958</td>\n",
       "      <td>0</td>\n",
       "      <td>0</td>\n",
       "      <td>1</td>\n",
       "      <td>1</td>\n",
       "    </tr>\n",
       "    <tr>\n",
       "      <th>23</th>\n",
       "      <td>1</td>\n",
       "      <td>28.0</td>\n",
       "      <td>0</td>\n",
       "      <td>0</td>\n",
       "      <td>35.5000</td>\n",
       "      <td>1</td>\n",
       "      <td>0</td>\n",
       "      <td>1</td>\n",
       "      <td>1</td>\n",
       "    </tr>\n",
       "    <tr>\n",
       "      <th>608</th>\n",
       "      <td>2</td>\n",
       "      <td>22.0</td>\n",
       "      <td>1</td>\n",
       "      <td>2</td>\n",
       "      <td>41.5792</td>\n",
       "      <td>0</td>\n",
       "      <td>0</td>\n",
       "      <td>0</td>\n",
       "      <td>1</td>\n",
       "    </tr>\n",
       "    <tr>\n",
       "      <th>218</th>\n",
       "      <td>1</td>\n",
       "      <td>32.0</td>\n",
       "      <td>0</td>\n",
       "      <td>0</td>\n",
       "      <td>76.2917</td>\n",
       "      <td>0</td>\n",
       "      <td>0</td>\n",
       "      <td>0</td>\n",
       "      <td>1</td>\n",
       "    </tr>\n",
       "    <tr>\n",
       "      <th>134</th>\n",
       "      <td>2</td>\n",
       "      <td>25.0</td>\n",
       "      <td>0</td>\n",
       "      <td>0</td>\n",
       "      <td>13.0000</td>\n",
       "      <td>1</td>\n",
       "      <td>0</td>\n",
       "      <td>1</td>\n",
       "      <td>0</td>\n",
       "    </tr>\n",
       "    <tr>\n",
       "      <th>428</th>\n",
       "      <td>3</td>\n",
       "      <td>24.0</td>\n",
       "      <td>0</td>\n",
       "      <td>0</td>\n",
       "      <td>7.7500</td>\n",
       "      <td>1</td>\n",
       "      <td>1</td>\n",
       "      <td>0</td>\n",
       "      <td>0</td>\n",
       "    </tr>\n",
       "    <tr>\n",
       "      <th>888</th>\n",
       "      <td>3</td>\n",
       "      <td>24.0</td>\n",
       "      <td>1</td>\n",
       "      <td>2</td>\n",
       "      <td>23.4500</td>\n",
       "      <td>0</td>\n",
       "      <td>0</td>\n",
       "      <td>1</td>\n",
       "      <td>0</td>\n",
       "    </tr>\n",
       "    <tr>\n",
       "      <th>753</th>\n",
       "      <td>3</td>\n",
       "      <td>23.0</td>\n",
       "      <td>0</td>\n",
       "      <td>0</td>\n",
       "      <td>7.8958</td>\n",
       "      <td>1</td>\n",
       "      <td>0</td>\n",
       "      <td>1</td>\n",
       "      <td>0</td>\n",
       "    </tr>\n",
       "    <tr>\n",
       "      <th>118</th>\n",
       "      <td>1</td>\n",
       "      <td>24.0</td>\n",
       "      <td>0</td>\n",
       "      <td>1</td>\n",
       "      <td>247.5208</td>\n",
       "      <td>1</td>\n",
       "      <td>0</td>\n",
       "      <td>0</td>\n",
       "      <td>0</td>\n",
       "    </tr>\n",
       "    <tr>\n",
       "      <th>777</th>\n",
       "      <td>3</td>\n",
       "      <td>5.0</td>\n",
       "      <td>0</td>\n",
       "      <td>0</td>\n",
       "      <td>12.4750</td>\n",
       "      <td>0</td>\n",
       "      <td>0</td>\n",
       "      <td>1</td>\n",
       "      <td>1</td>\n",
       "    </tr>\n",
       "    <tr>\n",
       "      <th>77</th>\n",
       "      <td>3</td>\n",
       "      <td>24.0</td>\n",
       "      <td>0</td>\n",
       "      <td>0</td>\n",
       "      <td>8.0500</td>\n",
       "      <td>1</td>\n",
       "      <td>0</td>\n",
       "      <td>1</td>\n",
       "      <td>0</td>\n",
       "    </tr>\n",
       "    <tr>\n",
       "      <th>290</th>\n",
       "      <td>1</td>\n",
       "      <td>26.0</td>\n",
       "      <td>0</td>\n",
       "      <td>0</td>\n",
       "      <td>78.8500</td>\n",
       "      <td>0</td>\n",
       "      <td>0</td>\n",
       "      <td>1</td>\n",
       "      <td>1</td>\n",
       "    </tr>\n",
       "    <tr>\n",
       "      <th>562</th>\n",
       "      <td>2</td>\n",
       "      <td>28.0</td>\n",
       "      <td>0</td>\n",
       "      <td>0</td>\n",
       "      <td>13.5000</td>\n",
       "      <td>1</td>\n",
       "      <td>0</td>\n",
       "      <td>1</td>\n",
       "      <td>0</td>\n",
       "    </tr>\n",
       "    <tr>\n",
       "      <th>191</th>\n",
       "      <td>2</td>\n",
       "      <td>19.0</td>\n",
       "      <td>0</td>\n",
       "      <td>0</td>\n",
       "      <td>13.0000</td>\n",
       "      <td>1</td>\n",
       "      <td>0</td>\n",
       "      <td>1</td>\n",
       "      <td>0</td>\n",
       "    </tr>\n",
       "    <tr>\n",
       "      <th>230</th>\n",
       "      <td>1</td>\n",
       "      <td>35.0</td>\n",
       "      <td>1</td>\n",
       "      <td>0</td>\n",
       "      <td>83.4750</td>\n",
       "      <td>0</td>\n",
       "      <td>0</td>\n",
       "      <td>1</td>\n",
       "      <td>1</td>\n",
       "    </tr>\n",
       "    <tr>\n",
       "      <th>688</th>\n",
       "      <td>3</td>\n",
       "      <td>18.0</td>\n",
       "      <td>0</td>\n",
       "      <td>0</td>\n",
       "      <td>7.7958</td>\n",
       "      <td>1</td>\n",
       "      <td>0</td>\n",
       "      <td>1</td>\n",
       "      <td>0</td>\n",
       "    </tr>\n",
       "    <tr>\n",
       "      <th>793</th>\n",
       "      <td>1</td>\n",
       "      <td>37.0</td>\n",
       "      <td>0</td>\n",
       "      <td>0</td>\n",
       "      <td>30.6958</td>\n",
       "      <td>1</td>\n",
       "      <td>0</td>\n",
       "      <td>0</td>\n",
       "      <td>0</td>\n",
       "    </tr>\n",
       "    <tr>\n",
       "      <th>269</th>\n",
       "      <td>1</td>\n",
       "      <td>35.0</td>\n",
       "      <td>0</td>\n",
       "      <td>0</td>\n",
       "      <td>135.6333</td>\n",
       "      <td>0</td>\n",
       "      <td>0</td>\n",
       "      <td>1</td>\n",
       "      <td>1</td>\n",
       "    </tr>\n",
       "    <tr>\n",
       "      <th>154</th>\n",
       "      <td>3</td>\n",
       "      <td>24.0</td>\n",
       "      <td>0</td>\n",
       "      <td>0</td>\n",
       "      <td>7.3125</td>\n",
       "      <td>1</td>\n",
       "      <td>0</td>\n",
       "      <td>1</td>\n",
       "      <td>0</td>\n",
       "    </tr>\n",
       "    <tr>\n",
       "      <th>454</th>\n",
       "      <td>3</td>\n",
       "      <td>24.0</td>\n",
       "      <td>0</td>\n",
       "      <td>0</td>\n",
       "      <td>8.0500</td>\n",
       "      <td>1</td>\n",
       "      <td>0</td>\n",
       "      <td>1</td>\n",
       "      <td>0</td>\n",
       "    </tr>\n",
       "    <tr>\n",
       "      <th>879</th>\n",
       "      <td>1</td>\n",
       "      <td>56.0</td>\n",
       "      <td>0</td>\n",
       "      <td>1</td>\n",
       "      <td>83.1583</td>\n",
       "      <td>0</td>\n",
       "      <td>0</td>\n",
       "      <td>0</td>\n",
       "      <td>1</td>\n",
       "    </tr>\n",
       "    <tr>\n",
       "      <th>771</th>\n",
       "      <td>3</td>\n",
       "      <td>48.0</td>\n",
       "      <td>0</td>\n",
       "      <td>0</td>\n",
       "      <td>7.8542</td>\n",
       "      <td>1</td>\n",
       "      <td>0</td>\n",
       "      <td>1</td>\n",
       "      <td>0</td>\n",
       "    </tr>\n",
       "    <tr>\n",
       "      <th>466</th>\n",
       "      <td>2</td>\n",
       "      <td>29.0</td>\n",
       "      <td>0</td>\n",
       "      <td>0</td>\n",
       "      <td>0.0000</td>\n",
       "      <td>1</td>\n",
       "      <td>0</td>\n",
       "      <td>1</td>\n",
       "      <td>0</td>\n",
       "    </tr>\n",
       "  </tbody>\n",
       "</table>\n",
       "<p>179 rows × 9 columns</p>\n",
       "</div>"
      ],
      "text/plain": [
       "     Pclass   Age  SibSp  Parch      Fare  male  Q  S  Survived\n",
       "331       1  45.5      0      0   28.5000     1  0  1         0\n",
       "700       1  18.0      1      0  227.5250     0  0  0         1\n",
       "748       1  19.0      1      0   53.1000     1  0  1         0\n",
       "751       3   6.0      0      1   12.4750     1  0  1         1\n",
       "481       2  29.0      0      0    0.0000     1  0  1         0\n",
       "845       3  42.0      0      0    7.5500     1  0  1         0\n",
       "740       1  37.0      0      0   30.0000     1  0  1         1\n",
       "287       3  22.0      0      0    7.8958     1  0  1         0\n",
       "669       1  37.0      1      0   52.0000     0  0  1         1\n",
       "241       3  24.0      1      0   15.5000     0  1  0         1\n",
       "413       2  29.0      0      0    0.0000     1  0  1         0\n",
       "636       3  32.0      0      0    7.9250     1  0  1         0\n",
       "448       3   5.0      2      1   19.2583     0  0  0         1\n",
       "127       3  24.0      0      0    7.1417     1  0  1         1\n",
       "630       1  80.0      0      0   30.0000     1  0  1         1\n",
       "672       2  70.0      0      0   10.5000     1  0  1         0\n",
       "889       1  26.0      0      0   30.0000     1  0  0         1\n",
       "500       3  17.0      0      0    8.6625     1  0  1         0\n",
       "495       3  24.0      0      0   14.4583     1  0  0         0\n",
       "323       2  22.0      1      1   29.0000     0  0  1         1\n",
       "614       3  35.0      0      0    8.0500     1  0  1         0\n",
       "182       3   9.0      4      2   31.3875     1  0  1         0\n",
       "727       3  24.0      0      0    7.7375     0  1  0         1\n",
       "109       3  24.0      1      0   24.1500     0  1  0         1\n",
       "873       3  47.0      0      0    9.0000     1  0  1         0\n",
       "694       1  60.0      0      0   26.5500     1  0  1         0\n",
       "138       3  16.0      0      0    9.2167     1  0  1         0\n",
       "361       2  29.0      1      0   27.7208     1  0  0         0\n",
       "7         3   2.0      3      1   21.0750     1  0  1         0\n",
       "548       3  33.0      1      1   20.5250     1  0  1         0\n",
       "..      ...   ...    ...    ...       ...   ... .. ..       ...\n",
       "421       3  21.0      0      0    7.7333     1  1  0         0\n",
       "56        2  21.0      0      0   10.5000     0  0  1         1\n",
       "240       3  24.0      1      0   14.4542     0  0  0         0\n",
       "544       1  50.0      1      0  106.4250     1  0  0         0\n",
       "738       3  24.0      0      0    7.8958     1  0  1         0\n",
       "718       3  24.0      0      0   15.5000     1  1  0         0\n",
       "645       1  48.0      1      0   76.7292     1  0  0         1\n",
       "786       3  18.0      0      0    7.4958     0  0  1         1\n",
       "23        1  28.0      0      0   35.5000     1  0  1         1\n",
       "608       2  22.0      1      2   41.5792     0  0  0         1\n",
       "218       1  32.0      0      0   76.2917     0  0  0         1\n",
       "134       2  25.0      0      0   13.0000     1  0  1         0\n",
       "428       3  24.0      0      0    7.7500     1  1  0         0\n",
       "888       3  24.0      1      2   23.4500     0  0  1         0\n",
       "753       3  23.0      0      0    7.8958     1  0  1         0\n",
       "118       1  24.0      0      1  247.5208     1  0  0         0\n",
       "777       3   5.0      0      0   12.4750     0  0  1         1\n",
       "77        3  24.0      0      0    8.0500     1  0  1         0\n",
       "290       1  26.0      0      0   78.8500     0  0  1         1\n",
       "562       2  28.0      0      0   13.5000     1  0  1         0\n",
       "191       2  19.0      0      0   13.0000     1  0  1         0\n",
       "230       1  35.0      1      0   83.4750     0  0  1         1\n",
       "688       3  18.0      0      0    7.7958     1  0  1         0\n",
       "793       1  37.0      0      0   30.6958     1  0  0         0\n",
       "269       1  35.0      0      0  135.6333     0  0  1         1\n",
       "154       3  24.0      0      0    7.3125     1  0  1         0\n",
       "454       3  24.0      0      0    8.0500     1  0  1         0\n",
       "879       1  56.0      0      1   83.1583     0  0  0         1\n",
       "771       3  48.0      0      0    7.8542     1  0  1         0\n",
       "466       2  29.0      0      0    0.0000     1  0  1         0\n",
       "\n",
       "[179 rows x 9 columns]"
      ]
     },
     "execution_count": 29,
     "metadata": {},
     "output_type": "execute_result"
    }
   ],
   "source": [
    "pd.concat((X_test,Y_test), axis=1)"
   ]
  },
  {
   "cell_type": "code",
   "execution_count": 36,
   "metadata": {},
   "outputs": [
    {
     "name": "stdout",
     "output_type": "stream",
     "text": [
      "Survived\n",
      "0    549\n",
      "1    342\n",
      "dtype: int64\n"
     ]
    }
   ],
   "source": [
    "print(dataset.groupby('Survived').size())"
   ]
  },
  {
   "cell_type": "markdown",
   "metadata": {},
   "source": [
    "## KNN (K-Nearest Neighbors)"
   ]
  },
  {
   "cell_type": "code",
   "execution_count": 26,
   "metadata": {},
   "outputs": [
    {
     "data": {
      "image/png": "[encoded data removed]",
      "text/plain": [
       "<matplotlib.figure.Figure at 0x27f1364a9e8>"
      ]
     },
     "metadata": {},
     "output_type": "display_data"
    }
   ],
   "source": [
    "from sklearn.neighbors import KNeighborsClassifier\n",
    "training_accuracy = []\n",
    "test_accuracy = []\n",
    "# try n_neighbors from 1 to 10\n",
    "neighbors_settings = range(1,11)\n",
    "for n_neighbors in neighbors_settings:\n",
    "    # build the model\n",
    "    knn = KNeighborsClassifier(n_neighbors = n_neighbors)\n",
    "    knn.fit(X_train,Y_train)\n",
    "    # record training set accuracy\n",
    "    training_accuracy.append(knn.score(X_train,Y_train))\n",
    "    # record test set accuracy\n",
    "    test_accuracy.append(knn.score(X_test,Y_test))\n",
    "plt.plot(neighbors_settings, training_accuracy, label='training_accuracy')\n",
    "plt.plot(neighbors_settings, test_accuracy, label='test_accuracy')\n",
    "plt.ylabel('Accuracy')\n",
    "plt.xlabel('n_neighbors')\n",
    "plt.legend()\n",
    "plt.savefig('knn_compare_model')"
   ]
  },
  {
   "cell_type": "code",
   "execution_count": 27,
   "metadata": {},
   "outputs": [
    {
     "data": {
      "text/plain": [
       "KNeighborsClassifier(algorithm='auto', leaf_size=30, metric='minkowski',\n",
       "           metric_params=None, n_jobs=1, n_neighbors=9, p=2,\n",
       "           weights='uniform')"
      ]
     },
     "execution_count": 27,
     "metadata": {},
     "output_type": "execute_result"
    }
   ],
   "source": [
    "knn = KNeighborsClassifier(n_neighbors = 9)\n",
    "knn.fit(X_train, Y_train)\n"
   ]
  },
  {
   "cell_type": "code",
   "execution_count": 28,
   "metadata": {},
   "outputs": [
    {
     "data": {
      "text/plain": [
       "0.72067039106145248"
      ]
     },
     "execution_count": 28,
     "metadata": {},
     "output_type": "execute_result"
    }
   ],
   "source": [
    "knn.score(X_test,Y_test)"
   ]
  },
  {
   "cell_type": "markdown",
   "metadata": {},
   "source": [
    "## Naive Bayes"
   ]
  },
  {
   "cell_type": "code",
   "execution_count": 29,
   "metadata": {},
   "outputs": [
    {
     "data": {
      "text/plain": [
       "GaussianNB(priors=None)"
      ]
     },
     "execution_count": 29,
     "metadata": {},
     "output_type": "execute_result"
    }
   ],
   "source": [
    "from sklearn.naive_bayes import GaussianNB\n",
    "classifier = GaussianNB()\n",
    "classifier.fit(X_train,Y_train)"
   ]
  },
  {
   "cell_type": "code",
   "execution_count": 30,
   "metadata": {},
   "outputs": [
    {
     "data": {
      "text/plain": [
       "array([0, 1, 0, 0, 0, 0, 0, 0, 1, 1, 0, 0, 1, 0, 0, 0, 0, 0, 0, 1, 0, 0, 1,\n",
       "       1, 0, 0, 0, 0, 0, 0, 1, 1, 1, 0, 0, 1, 0, 0, 0, 0, 1, 1, 1, 0, 0, 0,\n",
       "       0, 0, 0, 0, 1, 1, 1, 1, 1, 0, 0, 0, 1, 1, 1, 0, 0, 1, 0, 0, 1, 1, 1,\n",
       "       0, 0, 0, 0, 0, 1, 1, 0, 0, 0, 0, 0, 1, 0, 0, 1, 0, 0, 0, 0, 1, 0, 1,\n",
       "       1, 1, 1, 1, 1, 0, 0, 0, 0, 1, 0, 0, 1, 1, 1, 1, 1, 0, 0, 0, 0, 0, 1,\n",
       "       0, 1, 0, 0, 1, 0, 0, 1, 0, 0, 0, 0, 0, 1, 0, 1, 1, 1, 0, 0, 0, 0, 0,\n",
       "       0, 1, 0, 1, 0, 0, 1, 0, 1, 0, 0, 0, 1, 1, 1, 0, 0, 1, 1, 0, 1, 1, 0,\n",
       "       0, 1, 0, 1, 1, 0, 1, 0, 0, 1, 0, 0, 1, 0, 0, 1, 0, 0], dtype=int64)"
      ]
     },
     "execution_count": 30,
     "metadata": {},
     "output_type": "execute_result"
    }
   ],
   "source": [
    "Y_pred = classifier.predict(X_test)\n",
    "Y_pred"
   ]
  },
  {
   "cell_type": "code",
   "execution_count": 31,
   "metadata": {},
   "outputs": [
    {
     "data": {
      "text/plain": [
       "0.79329608938547491"
      ]
     },
     "execution_count": 31,
     "metadata": {},
     "output_type": "execute_result"
    }
   ],
   "source": [
    "classifier.score(X_test,Y_test)"
   ]
  },
  {
   "cell_type": "code",
   "execution_count": 32,
   "metadata": {},
   "outputs": [
    {
     "name": "stdout",
     "output_type": "stream",
     "text": [
      "[[86 13]\n",
      " [24 56]]\n",
      "             precision    recall  f1-score   support\n",
      "\n",
      "          0       0.78      0.87      0.82        99\n",
      "          1       0.81      0.70      0.75        80\n",
      "\n",
      "avg / total       0.80      0.79      0.79       179\n",
      "\n"
     ]
    }
   ],
   "source": [
    "from sklearn.metrics import classification_report,confusion_matrix\n",
    "print(confusion_matrix(Y_test,Y_pred))\n",
    "print(classification_report(Y_test,Y_pred))"
   ]
  },
  {
   "cell_type": "markdown",
   "metadata": {},
   "source": [
    "## Random Forest"
   ]
  },
  {
   "cell_type": "code",
   "execution_count": 33,
   "metadata": {
    "collapsed": true
   },
   "outputs": [],
   "source": [
    "from sklearn.ensemble import RandomForestClassifier\n",
    "clf = RandomForestClassifier(n_estimators=100)\n",
    "clf.fit(X_train,Y_train)\n",
    "Y_pred = clf.predict(X_test)"
   ]
  },
  {
   "cell_type": "code",
   "execution_count": 34,
   "metadata": {},
   "outputs": [
    {
     "name": "stdout",
     "output_type": "stream",
     "text": [
      "Accuracy: 0.804469273743\n"
     ]
    }
   ],
   "source": [
    "from sklearn import metrics\n",
    "print('Accuracy:',metrics.accuracy_score(Y_test,Y_pred))"
   ]
  },
  {
   "cell_type": "markdown",
   "metadata": {},
   "source": [
    "## Support Vector Machine"
   ]
  },
  {
   "cell_type": "code",
   "execution_count": 55,
   "metadata": {},
   "outputs": [
    {
     "data": {
      "text/plain": [
       "<matplotlib.collections.PathCollection at 0x27f13984da0>"
      ]
     },
     "execution_count": 55,
     "metadata": {},
     "output_type": "execute_result"
    },
    {
     "data": {
      "image/png": "[encoded data removed]",
      "text/plain": [
       "<matplotlib.figure.Figure at 0x27f1390d780>"
      ]
     },
     "metadata": {},
     "output_type": "display_data"
    }
   ],
   "source": [
    "\n",
    "plt.scatter(dataset['Age'],dataset['Survived'])"
   ]
  },
  {
   "cell_type": "code",
   "execution_count": 51,
   "metadata": {},
   "outputs": [
    {
     "data": {
      "text/plain": [
       "SVC(C=1.0, cache_size=200, class_weight=None, coef0=0.0,\n",
       "  decision_function_shape='ovr', degree=3, gamma='auto', kernel='linear',\n",
       "  max_iter=-1, probability=False, random_state=None, shrinking=True,\n",
       "  tol=0.001, verbose=False)"
      ]
     },
     "execution_count": 51,
     "metadata": {},
     "output_type": "execute_result"
    }
   ],
   "source": [
    "from sklearn.svm import SVC\n",
    "clf = SVC(kernel='linear')\n",
    "clf.fit(X_train,Y_train)"
   ]
  },
  {
   "cell_type": "code",
   "execution_count": 48,
   "metadata": {},
   "outputs": [
    {
     "data": {
      "text/plain": [
       "array([0, 1, 0, 0, 0, 0, 0, 0, 1, 1, 0, 0, 1, 0, 0, 0, 0, 0, 0, 1, 0, 0, 1,\n",
       "       1, 0, 0, 0, 0, 0, 0, 1, 0, 1, 0, 0, 1, 0, 0, 0, 0, 0, 1, 1, 0, 0, 0,\n",
       "       0, 0, 0, 0, 1, 1, 1, 1, 1, 0, 0, 0, 0, 1, 1, 0, 0, 1, 0, 0, 1, 0, 1,\n",
       "       0, 1, 0, 0, 0, 1, 1, 0, 0, 0, 0, 0, 1, 0, 0, 1, 0, 0, 0, 0, 1, 0, 1,\n",
       "       1, 1, 1, 1, 1, 0, 0, 0, 0, 1, 0, 0, 0, 1, 1, 1, 1, 0, 1, 0, 0, 0, 1,\n",
       "       1, 1, 0, 0, 1, 0, 0, 1, 0, 0, 0, 1, 0, 1, 0, 1, 1, 1, 0, 0, 0, 0, 0,\n",
       "       0, 1, 0, 1, 0, 0, 1, 0, 1, 0, 0, 0, 1, 1, 0, 0, 0, 0, 1, 0, 1, 1, 0,\n",
       "       0, 1, 0, 0, 1, 0, 1, 0, 0, 1, 0, 0, 1, 0, 0, 1, 0, 0], dtype=int64)"
      ]
     },
     "execution_count": 48,
     "metadata": {},
     "output_type": "execute_result"
    }
   ],
   "source": [
    "Y_pred = clf.predict(X_test)\n",
    "Y_pred "
   ]
  },
  {
   "cell_type": "code",
   "execution_count": 52,
   "metadata": {},
   "outputs": [
    {
     "data": {
      "text/plain": [
       "array([[  2.  ,  23.  ,   0.  , ...,   1.  ,   0.  ,   1.  ],\n",
       "       [  3.  ,  24.  ,   0.  , ...,   0.  ,   1.  ,   0.  ],\n",
       "       [  3.  ,  30.  ,   1.  , ...,   0.  ,   0.  ,   1.  ],\n",
       "       ..., \n",
       "       [  3.  ,   0.75,   2.  , ...,   0.  ,   0.  ,   0.  ],\n",
       "       [  1.  ,  49.  ,   1.  , ...,   1.  ,   0.  ,   0.  ],\n",
       "       [  3.  ,  32.  ,   0.  , ...,   1.  ,   0.  ,   1.  ]])"
      ]
     },
     "execution_count": 52,
     "metadata": {},
     "output_type": "execute_result"
    }
   ],
   "source": [
    "clf.support_vectors_"
   ]
  },
  {
   "cell_type": "code",
   "execution_count": 53,
   "metadata": {},
   "outputs": [
    {
     "data": {
      "text/plain": [
       "316"
      ]
     },
     "execution_count": 53,
     "metadata": {},
     "output_type": "execute_result"
    }
   ],
   "source": [
    "len(clf.support_vectors_)"
   ]
  },
  {
   "cell_type": "code",
   "execution_count": 54,
   "metadata": {},
   "outputs": [
    {
     "data": {
      "text/plain": [
       "0.79329608938547491"
      ]
     },
     "execution_count": 54,
     "metadata": {},
     "output_type": "execute_result"
    }
   ],
   "source": [
    "clf.score(X_test,Y_test)"
   ]
  },
  {
   "cell_type": "code",
   "execution_count": null,
   "metadata": {
    "collapsed": true
   },
   "outputs": [],
   "source": []
  }
 ],
 "metadata": {
  "kernelspec": {
   "display_name": "Python 3",
   "language": "python",
   "name": "python3"
  },
  "language_info": {
   "codemirror_mode": {
    "name": "ipython",
    "version": 3
   },
   "file_extension": ".py",
   "mimetype": "text/x-python",
   "name": "python",
   "nbconvert_exporter": "python",
   "pygments_lexer": "ipython3",
   "version": "3.6.3"
  }
 },
 "nbformat": 4,
 "nbformat_minor": 2
}
